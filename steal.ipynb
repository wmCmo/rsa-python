{
 "cells": [
  {
   "cell_type": "code",
   "execution_count": null,
   "metadata": {},
   "outputs": [],
   "source": [
    "# Python3 program to find multiplicative modulo\n",
    "# inverse using Extended Euclid algorithm.\n",
    "\n",
    "# Global Variables\n",
    "x, y = 0, 1\n",
    "\n",
    "# Function for extended Euclidean Algorithm\n",
    "\n",
    "\n",
    "def gcdExtended(a, b):\n",
    "\tglobal x, y\n",
    "\n",
    "\t# Base Case\n",
    "\tif (a == 0):\n",
    "\t\tx = 0\n",
    "\t\ty = 1\n",
    "\t\treturn b\n",
    "\n",
    "\t# To store results of recursive call\n",
    "\tgcd = gcdExtended(b % a, a)\n",
    "\tx1 = x\n",
    "\ty1 = y\n",
    "\n",
    "\t# Update x and y using results of recursive\n",
    "\t# call\n",
    "\tx = y1 - (b // a) * x1\n",
    "\ty = x1\n",
    "\n",
    "\treturn gcd\n",
    "\n",
    "\n",
    "def modInverse(A, M):\n",
    "\n",
    "\tg = gcdExtended(A, M)\n",
    "\tif (g != 1):\n",
    "\t\tprint(\"Inverse doesn't exist\")\n",
    "\n",
    "\telse:\n",
    "\n",
    "\t\t# m is added to handle negative x\n",
    "\t\tres = (x % M + M) % M\n",
    "\t\tprint(\"Modular multiplicative inverse is \", res)\n",
    "\n",
    "\n",
    "# Driver Code\n",
    "if __name__ == \"__main__\":\n",
    "\tA = 0\n",
    "\tM = 0\n",
    "\n",
    "\t# Function call\n",
    "\tmodInverse(A, M)\n",
    "\n",
    "\n",
    "# This code is contributed by phasing17\n"
   ]
  }
 ],
 "metadata": {
  "kernelspec": {
   "display_name": "Python 3",
   "language": "python",
   "name": "python3"
  },
  "language_info": {
   "codemirror_mode": {
    "name": "ipython",
    "version": 3
   },
   "file_extension": ".py",
   "mimetype": "text/x-python",
   "name": "python",
   "nbconvert_exporter": "python",
   "pygments_lexer": "ipython3",
   "version": "3.11.0"
  }
 },
 "nbformat": 4,
 "nbformat_minor": 2
}
