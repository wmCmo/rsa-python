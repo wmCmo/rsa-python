{
 "cells": [
  {
   "cell_type": "code",
   "execution_count": 1,
   "metadata": {},
   "outputs": [],
   "source": [
    "E = 613895027\n",
    "PHI_N = 537129652544760\n",
    "import math\n",
    "N = 537130144363187\n",
    "D = 382760649833963"
   ]
  },
  {
   "cell_type": "code",
   "execution_count": 5,
   "metadata": {},
   "outputs": [
    {
     "ename": "MemoryError",
     "evalue": "",
     "output_type": "error",
     "traceback": [
      "\u001b[1;31m---------------------------------------------------------------------------\u001b[0m",
      "\u001b[1;31mMemoryError\u001b[0m                               Traceback (most recent call last)",
      "Cell \u001b[1;32mIn[5], line 1\u001b[0m\n\u001b[1;32m----> 1\u001b[0m (\u001b[38;5;241;43m2\u001b[39;49m\u001b[38;5;241;43m*\u001b[39;49m\u001b[38;5;241;43m*\u001b[39;49m\u001b[43mD\u001b[49m)\n",
      "\u001b[1;31mMemoryError\u001b[0m: "
     ]
    }
   ],
   "source": [
    "(2**D)"
   ]
  },
  {
   "cell_type": "code",
   "execution_count": 104,
   "metadata": {},
   "outputs": [
    {
     "ename": "TypeError",
     "evalue": "object of type 'float' has no len()",
     "output_type": "error",
     "traceback": [
      "\u001b[1;31m---------------------------------------------------------------------------\u001b[0m",
      "\u001b[1;31mTypeError\u001b[0m                                 Traceback (most recent call last)",
      "Cell \u001b[1;32mIn[104], line 1\u001b[0m\n\u001b[1;32m----> 1\u001b[0m \u001b[38;5;28;43mlen\u001b[39;49m\u001b[43m(\u001b[49m\u001b[43mmath\u001b[49m\u001b[38;5;241;43m.\u001b[39;49m\u001b[43mlog10\u001b[49m\u001b[43m(\u001b[49m\u001b[38;5;241;43m100000\u001b[39;49m\u001b[43m)\u001b[49m\u001b[43m)\u001b[49m\n",
      "\u001b[1;31mTypeError\u001b[0m: object of type 'float' has no len()"
     ]
    }
   ],
   "source": [
    "len(math.log10(100000))"
   ]
  },
  {
   "cell_type": "code",
   "execution_count": 102,
   "metadata": {},
   "outputs": [
    {
     "name": "stdout",
     "output_type": "stream",
     "text": [
      "10\n",
      "100\n",
      "1000\n",
      "10000\n",
      "100000\n",
      "1000000\n",
      "10000000\n",
      "100000000\n",
      "1000000000\n"
     ]
    },
    {
     "ename": "KeyboardInterrupt",
     "evalue": "",
     "output_type": "error",
     "traceback": [
      "\u001b[1;31m---------------------------------------------------------------------------\u001b[0m",
      "\u001b[1;31mKeyboardInterrupt\u001b[0m                         Traceback (most recent call last)",
      "Cell \u001b[1;32mIn[102], line 5\u001b[0m\n\u001b[0;32m      3\u001b[0m \u001b[38;5;28;01mwhile\u001b[39;00m \u001b[38;5;129;01mnot\u001b[39;00m found:\n\u001b[0;32m      4\u001b[0m     d \u001b[38;5;241m+\u001b[39m\u001b[38;5;241m=\u001b[39m \u001b[38;5;241m1\u001b[39m\n\u001b[1;32m----> 5\u001b[0m     \u001b[38;5;28;01mif\u001b[39;00m \u001b[38;5;28mlen\u001b[39m(\u001b[38;5;28mstr\u001b[39m(\u001b[43mmath\u001b[49m\u001b[38;5;241;43m.\u001b[39;49m\u001b[43mlog10\u001b[49m\u001b[43m(\u001b[49m\u001b[43md\u001b[49m\u001b[43m)\u001b[49m)) \u001b[38;5;241m==\u001b[39m \u001b[38;5;241m3\u001b[39m:\n\u001b[0;32m      6\u001b[0m         \u001b[38;5;28mprint\u001b[39m(d)\n\u001b[0;32m      7\u001b[0m     \u001b[38;5;28;01mif\u001b[39;00m (E\u001b[38;5;241m*\u001b[39md)\u001b[38;5;241m%\u001b[39mPHI_N \u001b[38;5;241m==\u001b[39m \u001b[38;5;241m1\u001b[39m:\n",
      "\u001b[1;31mKeyboardInterrupt\u001b[0m: "
     ]
    }
   ],
   "source": [
    "found = False\n",
    "d = 1\n",
    "while not found:\n",
    "    d += 1\n",
    "    if len(str(math.log10(d))) == 3:\n",
    "        print(d)\n",
    "    if (E*d)%PHI_N == 1:\n",
    "        found = False"
   ]
  },
  {
   "cell_type": "code",
   "execution_count": 111,
   "metadata": {},
   "outputs": [],
   "source": [
    "def q_and_r(num, mod, t1, t2):\n",
    "    if num > mod:\n",
    "        a = num\n",
    "        b = mod\n",
    "    else:\n",
    "        a = mod\n",
    "        b = num\n",
    "    print(a//b, a, b, a % b, t1, t2, t1-(t2*(a//b)))\n",
    "    return (a//b, a % b, t2) if a % b == 0 else q_and_r(b, a % b, t2, t1-(t2*(a//b)))"
   ]
  },
  {
   "cell_type": "code",
   "execution_count": 112,
   "metadata": {},
   "outputs": [
    {
     "name": "stdout",
     "output_type": "stream",
     "text": [
      "874953 537129652544760 613895027 356986029 0 1 -874953\n",
      "1 613895027 356986029 256908998 1 -874953 874954\n",
      "1 356986029 256908998 100077031 -874953 874954 -1749907\n",
      "2 256908998 100077031 56754936 874954 -1749907 4374768\n",
      "1 100077031 56754936 43322095 -1749907 4374768 -6124675\n",
      "1 56754936 43322095 13432841 4374768 -6124675 10499443\n",
      "3 43322095 13432841 3023572 -6124675 10499443 -37623004\n",
      "4 13432841 3023572 1338553 10499443 -37623004 160991459\n",
      "2 3023572 1338553 346466 -37623004 160991459 -359605922\n",
      "3 1338553 346466 299155 160991459 -359605922 1239809225\n",
      "1 346466 299155 47311 -359605922 1239809225 -1599415147\n",
      "6 299155 47311 15289 1239809225 -1599415147 10836300107\n",
      "3 47311 15289 1444 -1599415147 10836300107 -34108315468\n",
      "10 15289 1444 849 10836300107 -34108315468 351919454787\n",
      "1 1444 849 595 -34108315468 351919454787 -386027770255\n",
      "1 849 595 254 351919454787 -386027770255 737947225042\n",
      "2 595 254 87 -386027770255 737947225042 -1861922220339\n",
      "2 254 87 80 737947225042 -1861922220339 4461791665720\n",
      "1 87 80 7 -1861922220339 4461791665720 -6323713886059\n",
      "11 80 7 3 4461791665720 -6323713886059 74022644412369\n",
      "2 7 3 1 -6323713886059 74022644412369 -154369002710797\n",
      "3 3 1 0 74022644412369 -154369002710797 537129652544760\n"
     ]
    },
    {
     "data": {
      "text/plain": [
       "(3, 0, -154369002710797)"
      ]
     },
     "execution_count": 112,
     "metadata": {},
     "output_type": "execute_result"
    }
   ],
   "source": [
    "q_and_r(E, PHI_N, 0, 1)"
   ]
  },
  {
   "cell_type": "code",
   "execution_count": 113,
   "metadata": {},
   "outputs": [
    {
     "data": {
      "text/plain": [
       "1"
      ]
     },
     "execution_count": 113,
     "metadata": {},
     "output_type": "execute_result"
    }
   ],
   "source": [
    "(E*-154369002710797)%PHI_N"
   ]
  },
  {
   "cell_type": "code",
   "execution_count": 115,
   "metadata": {},
   "outputs": [
    {
     "data": {
      "text/plain": [
       "0.0"
      ]
     },
     "execution_count": 115,
     "metadata": {},
     "output_type": "execute_result"
    }
   ],
   "source": []
  },
  {
   "cell_type": "code",
   "execution_count": 64,
   "metadata": {},
   "outputs": [
    {
     "data": {
      "text/plain": [
       "1"
      ]
     },
     "execution_count": 64,
     "metadata": {},
     "output_type": "execute_result"
    }
   ],
   "source": [
    "-8%9"
   ]
  },
  {
   "cell_type": "code",
   "execution_count": 60,
   "metadata": {},
   "outputs": [
    {
     "data": {
      "text/plain": [
       "401190612"
      ]
     },
     "execution_count": 60,
     "metadata": {},
     "output_type": "execute_result"
    }
   ],
   "source": [
    "(74022644412369*E)%PHI_N"
   ]
  },
  {
   "cell_type": "code",
   "execution_count": 19,
   "metadata": {},
   "outputs": [],
   "source": [
    "def t(t1, t2):\n",
    "    return t1 - (t2*q_and_r()[0])"
   ]
  },
  {
   "cell_type": "code",
   "execution_count": null,
   "metadata": {},
   "outputs": [],
   "source": [
    "def main(e, phi_n):\n",
    "    "
   ]
  }
 ],
 "metadata": {
  "kernelspec": {
   "display_name": "Python 3",
   "language": "python",
   "name": "python3"
  },
  "language_info": {
   "codemirror_mode": {
    "name": "ipython",
    "version": 3
   },
   "file_extension": ".py",
   "mimetype": "text/x-python",
   "name": "python",
   "nbconvert_exporter": "python",
   "pygments_lexer": "ipython3",
   "version": "3.11.0"
  }
 },
 "nbformat": 4,
 "nbformat_minor": 2
}
